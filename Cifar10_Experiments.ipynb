{
  "nbformat": 4,
  "nbformat_minor": 0,
  "metadata": {
    "colab": {
      "name": "Cifar10_Experiments.ipynb",
      "provenance": [],
      "collapsed_sections": []
    },
    "kernelspec": {
      "name": "python3",
      "display_name": "Python 3"
    },
    "language_info": {
      "name": "python"
    },
    "widgets": {
      "application/vnd.jupyter.widget-state+json": {
        "9e3827e785544991bbf26357c189cd50": {
          "model_module": "@jupyter-widgets/controls",
          "model_name": "HBoxModel",
          "model_module_version": "1.5.0",
          "state": {
            "_view_name": "HBoxView",
            "_dom_classes": [],
            "_model_name": "HBoxModel",
            "_view_module": "@jupyter-widgets/controls",
            "_model_module_version": "1.5.0",
            "_view_count": null,
            "_view_module_version": "1.5.0",
            "box_style": "",
            "layout": "IPY_MODEL_d99e6f0c32dd44b58dec8cf890c63b87",
            "_model_module": "@jupyter-widgets/controls",
            "children": [
              "IPY_MODEL_464ec201cbac4cbea4ae7b9f508310cf",
              "IPY_MODEL_1d9ca2026de94550ab442d7674a3282f",
              "IPY_MODEL_c2d83ed3059d412f8392b2c9500f02ce"
            ]
          }
        },
        "d99e6f0c32dd44b58dec8cf890c63b87": {
          "model_module": "@jupyter-widgets/base",
          "model_name": "LayoutModel",
          "model_module_version": "1.2.0",
          "state": {
            "_view_name": "LayoutView",
            "grid_template_rows": null,
            "right": null,
            "justify_content": null,
            "_view_module": "@jupyter-widgets/base",
            "overflow": null,
            "_model_module_version": "1.2.0",
            "_view_count": null,
            "flex_flow": null,
            "width": null,
            "min_width": null,
            "border": null,
            "align_items": null,
            "bottom": null,
            "_model_module": "@jupyter-widgets/base",
            "top": null,
            "grid_column": null,
            "overflow_y": null,
            "overflow_x": null,
            "grid_auto_flow": null,
            "grid_area": null,
            "grid_template_columns": null,
            "flex": null,
            "_model_name": "LayoutModel",
            "justify_items": null,
            "grid_row": null,
            "max_height": null,
            "align_content": null,
            "visibility": null,
            "align_self": null,
            "height": null,
            "min_height": null,
            "padding": null,
            "grid_auto_rows": null,
            "grid_gap": null,
            "max_width": null,
            "order": null,
            "_view_module_version": "1.2.0",
            "grid_template_areas": null,
            "object_position": null,
            "object_fit": null,
            "grid_auto_columns": null,
            "margin": null,
            "display": null,
            "left": null
          }
        },
        "464ec201cbac4cbea4ae7b9f508310cf": {
          "model_module": "@jupyter-widgets/controls",
          "model_name": "HTMLModel",
          "model_module_version": "1.5.0",
          "state": {
            "_view_name": "HTMLView",
            "style": "IPY_MODEL_0080817d578a423698b08788411bd1a7",
            "_dom_classes": [],
            "description": "",
            "_model_name": "HTMLModel",
            "placeholder": "​",
            "_view_module": "@jupyter-widgets/controls",
            "_model_module_version": "1.5.0",
            "value": "",
            "_view_count": null,
            "_view_module_version": "1.5.0",
            "description_tooltip": null,
            "_model_module": "@jupyter-widgets/controls",
            "layout": "IPY_MODEL_9bfda39b6fa14d7ea7ab3d7df112fb4d"
          }
        },
        "1d9ca2026de94550ab442d7674a3282f": {
          "model_module": "@jupyter-widgets/controls",
          "model_name": "FloatProgressModel",
          "model_module_version": "1.5.0",
          "state": {
            "_view_name": "ProgressView",
            "style": "IPY_MODEL_7bdedfa414c448a891a1c1e7e9e5053b",
            "_dom_classes": [],
            "description": "",
            "_model_name": "FloatProgressModel",
            "bar_style": "success",
            "max": 170498071,
            "_view_module": "@jupyter-widgets/controls",
            "_model_module_version": "1.5.0",
            "value": 170498071,
            "_view_count": null,
            "_view_module_version": "1.5.0",
            "orientation": "horizontal",
            "min": 0,
            "description_tooltip": null,
            "_model_module": "@jupyter-widgets/controls",
            "layout": "IPY_MODEL_1bf07ab04dd744e1b0cc1b3fe9bee265"
          }
        },
        "c2d83ed3059d412f8392b2c9500f02ce": {
          "model_module": "@jupyter-widgets/controls",
          "model_name": "HTMLModel",
          "model_module_version": "1.5.0",
          "state": {
            "_view_name": "HTMLView",
            "style": "IPY_MODEL_fd04413b609743b99499f5e5625653d6",
            "_dom_classes": [],
            "description": "",
            "_model_name": "HTMLModel",
            "placeholder": "​",
            "_view_module": "@jupyter-widgets/controls",
            "_model_module_version": "1.5.0",
            "value": " 170499072/? [00:03&lt;00:00, 48580967.92it/s]",
            "_view_count": null,
            "_view_module_version": "1.5.0",
            "description_tooltip": null,
            "_model_module": "@jupyter-widgets/controls",
            "layout": "IPY_MODEL_2f2c1e3200c2409d881d7e380f6e9d1e"
          }
        },
        "0080817d578a423698b08788411bd1a7": {
          "model_module": "@jupyter-widgets/controls",
          "model_name": "DescriptionStyleModel",
          "model_module_version": "1.5.0",
          "state": {
            "_view_name": "StyleView",
            "_model_name": "DescriptionStyleModel",
            "description_width": "",
            "_view_module": "@jupyter-widgets/base",
            "_model_module_version": "1.5.0",
            "_view_count": null,
            "_view_module_version": "1.2.0",
            "_model_module": "@jupyter-widgets/controls"
          }
        },
        "9bfda39b6fa14d7ea7ab3d7df112fb4d": {
          "model_module": "@jupyter-widgets/base",
          "model_name": "LayoutModel",
          "model_module_version": "1.2.0",
          "state": {
            "_view_name": "LayoutView",
            "grid_template_rows": null,
            "right": null,
            "justify_content": null,
            "_view_module": "@jupyter-widgets/base",
            "overflow": null,
            "_model_module_version": "1.2.0",
            "_view_count": null,
            "flex_flow": null,
            "width": null,
            "min_width": null,
            "border": null,
            "align_items": null,
            "bottom": null,
            "_model_module": "@jupyter-widgets/base",
            "top": null,
            "grid_column": null,
            "overflow_y": null,
            "overflow_x": null,
            "grid_auto_flow": null,
            "grid_area": null,
            "grid_template_columns": null,
            "flex": null,
            "_model_name": "LayoutModel",
            "justify_items": null,
            "grid_row": null,
            "max_height": null,
            "align_content": null,
            "visibility": null,
            "align_self": null,
            "height": null,
            "min_height": null,
            "padding": null,
            "grid_auto_rows": null,
            "grid_gap": null,
            "max_width": null,
            "order": null,
            "_view_module_version": "1.2.0",
            "grid_template_areas": null,
            "object_position": null,
            "object_fit": null,
            "grid_auto_columns": null,
            "margin": null,
            "display": null,
            "left": null
          }
        },
        "7bdedfa414c448a891a1c1e7e9e5053b": {
          "model_module": "@jupyter-widgets/controls",
          "model_name": "ProgressStyleModel",
          "model_module_version": "1.5.0",
          "state": {
            "_view_name": "StyleView",
            "_model_name": "ProgressStyleModel",
            "description_width": "",
            "_view_module": "@jupyter-widgets/base",
            "_model_module_version": "1.5.0",
            "_view_count": null,
            "_view_module_version": "1.2.0",
            "bar_color": null,
            "_model_module": "@jupyter-widgets/controls"
          }
        },
        "1bf07ab04dd744e1b0cc1b3fe9bee265": {
          "model_module": "@jupyter-widgets/base",
          "model_name": "LayoutModel",
          "model_module_version": "1.2.0",
          "state": {
            "_view_name": "LayoutView",
            "grid_template_rows": null,
            "right": null,
            "justify_content": null,
            "_view_module": "@jupyter-widgets/base",
            "overflow": null,
            "_model_module_version": "1.2.0",
            "_view_count": null,
            "flex_flow": null,
            "width": null,
            "min_width": null,
            "border": null,
            "align_items": null,
            "bottom": null,
            "_model_module": "@jupyter-widgets/base",
            "top": null,
            "grid_column": null,
            "overflow_y": null,
            "overflow_x": null,
            "grid_auto_flow": null,
            "grid_area": null,
            "grid_template_columns": null,
            "flex": null,
            "_model_name": "LayoutModel",
            "justify_items": null,
            "grid_row": null,
            "max_height": null,
            "align_content": null,
            "visibility": null,
            "align_self": null,
            "height": null,
            "min_height": null,
            "padding": null,
            "grid_auto_rows": null,
            "grid_gap": null,
            "max_width": null,
            "order": null,
            "_view_module_version": "1.2.0",
            "grid_template_areas": null,
            "object_position": null,
            "object_fit": null,
            "grid_auto_columns": null,
            "margin": null,
            "display": null,
            "left": null
          }
        },
        "fd04413b609743b99499f5e5625653d6": {
          "model_module": "@jupyter-widgets/controls",
          "model_name": "DescriptionStyleModel",
          "model_module_version": "1.5.0",
          "state": {
            "_view_name": "StyleView",
            "_model_name": "DescriptionStyleModel",
            "description_width": "",
            "_view_module": "@jupyter-widgets/base",
            "_model_module_version": "1.5.0",
            "_view_count": null,
            "_view_module_version": "1.2.0",
            "_model_module": "@jupyter-widgets/controls"
          }
        },
        "2f2c1e3200c2409d881d7e380f6e9d1e": {
          "model_module": "@jupyter-widgets/base",
          "model_name": "LayoutModel",
          "model_module_version": "1.2.0",
          "state": {
            "_view_name": "LayoutView",
            "grid_template_rows": null,
            "right": null,
            "justify_content": null,
            "_view_module": "@jupyter-widgets/base",
            "overflow": null,
            "_model_module_version": "1.2.0",
            "_view_count": null,
            "flex_flow": null,
            "width": null,
            "min_width": null,
            "border": null,
            "align_items": null,
            "bottom": null,
            "_model_module": "@jupyter-widgets/base",
            "top": null,
            "grid_column": null,
            "overflow_y": null,
            "overflow_x": null,
            "grid_auto_flow": null,
            "grid_area": null,
            "grid_template_columns": null,
            "flex": null,
            "_model_name": "LayoutModel",
            "justify_items": null,
            "grid_row": null,
            "max_height": null,
            "align_content": null,
            "visibility": null,
            "align_self": null,
            "height": null,
            "min_height": null,
            "padding": null,
            "grid_auto_rows": null,
            "grid_gap": null,
            "max_width": null,
            "order": null,
            "_view_module_version": "1.2.0",
            "grid_template_areas": null,
            "object_position": null,
            "object_fit": null,
            "grid_auto_columns": null,
            "margin": null,
            "display": null,
            "left": null
          }
        }
      }
    }
  },
  "cells": [
    {
      "cell_type": "code",
      "metadata": {
        "id": "pYCbfvxSTwhO"
      },
      "source": [
        "#Code Referenced from pytorch tutorial at https://pytorch.org/tutorials/beginner/blitz/cifar10_tutorial.html#sphx-glr-beginner-blitz-cifar10-tutorial-py\n",
        "%matplotlib inline"
      ],
      "execution_count": 1,
      "outputs": []
    },
    {
      "cell_type": "code",
      "metadata": {
        "id": "rS_d3cQeT0lH"
      },
      "source": [
        "import torch\n",
        "import torchvision\n",
        "import torchvision.transforms as transforms"
      ],
      "execution_count": 2,
      "outputs": []
    },
    {
      "cell_type": "code",
      "metadata": {
        "colab": {
          "base_uri": "https://localhost:8080/"
        },
        "id": "JKTv9LDrUXEb",
        "outputId": "0ee2d412-795a-4f01-db9a-e590571f2d50"
      },
      "source": [
        "device = torch.device(\"cuda:0\" if torch.cuda.is_available() else \"cpu\")\n",
        "\n",
        "# Assuming that we are on a CUDA machine, this should print a CUDA device:\n",
        "\n",
        "print(device)"
      ],
      "execution_count": 3,
      "outputs": [
        {
          "output_type": "stream",
          "name": "stdout",
          "text": [
            "cpu\n"
          ]
        }
      ]
    },
    {
      "cell_type": "code",
      "metadata": {
        "colab": {
          "base_uri": "https://localhost:8080/",
          "height": 104,
          "referenced_widgets": [
            "9e3827e785544991bbf26357c189cd50",
            "d99e6f0c32dd44b58dec8cf890c63b87",
            "464ec201cbac4cbea4ae7b9f508310cf",
            "1d9ca2026de94550ab442d7674a3282f",
            "c2d83ed3059d412f8392b2c9500f02ce",
            "0080817d578a423698b08788411bd1a7",
            "9bfda39b6fa14d7ea7ab3d7df112fb4d",
            "7bdedfa414c448a891a1c1e7e9e5053b",
            "1bf07ab04dd744e1b0cc1b3fe9bee265",
            "fd04413b609743b99499f5e5625653d6",
            "2f2c1e3200c2409d881d7e380f6e9d1e"
          ]
        },
        "id": "CvLvOcKET1Xj",
        "outputId": "5ca0acb0-2f63-4254-8ed1-112edb284dd5"
      },
      "source": [
        "transform = transforms.Compose(\n",
        "    [transforms.ToTensor(),\n",
        "     transforms.Normalize((0.5, 0.5, 0.5), (0.5, 0.5, 0.5))])\n",
        "\n",
        "batch_size = 4\n",
        "\n",
        "trainset = torchvision.datasets.CIFAR10(root='./data', train=True,\n",
        "                                        download=True, transform=transform)\n",
        "trainloader = torch.utils.data.DataLoader(trainset, batch_size=batch_size,\n",
        "                                          shuffle=True, num_workers=2)\n",
        "\n",
        "testset = torchvision.datasets.CIFAR10(root='./data', train=False,\n",
        "                                       download=True, transform=transform)\n",
        "testloader = torch.utils.data.DataLoader(testset, batch_size=batch_size,\n",
        "                                         shuffle=False, num_workers=2)\n",
        "\n",
        "classes = ('plane', 'car', 'bird', 'cat',\n",
        "           'deer', 'dog', 'frog', 'horse', 'ship', 'truck')"
      ],
      "execution_count": 4,
      "outputs": [
        {
          "output_type": "stream",
          "name": "stdout",
          "text": [
            "Downloading https://www.cs.toronto.edu/~kriz/cifar-10-python.tar.gz to ./data/cifar-10-python.tar.gz\n"
          ]
        },
        {
          "output_type": "display_data",
          "data": {
            "application/vnd.jupyter.widget-view+json": {
              "model_id": "9e3827e785544991bbf26357c189cd50",
              "version_minor": 0,
              "version_major": 2
            },
            "text/plain": [
              "  0%|          | 0/170498071 [00:00<?, ?it/s]"
            ]
          },
          "metadata": {}
        },
        {
          "output_type": "stream",
          "name": "stdout",
          "text": [
            "Extracting ./data/cifar-10-python.tar.gz to ./data\n",
            "Files already downloaded and verified\n"
          ]
        }
      ]
    },
    {
      "cell_type": "code",
      "metadata": {
        "colab": {
          "base_uri": "https://localhost:8080/",
          "height": 156
        },
        "id": "DaTkP0wNT4UT",
        "outputId": "7069b9ed-cc5b-44a5-dbf8-3e61ce630dcc"
      },
      "source": [
        "import matplotlib.pyplot as plt\n",
        "import numpy as np\n",
        "\n",
        "# functions to show an image\n",
        "\n",
        "\n",
        "def imshow(img):\n",
        "    img = img / 2 + 0.5     # unnormalize\n",
        "    npimg = img.numpy()\n",
        "    plt.imshow(np.transpose(npimg, (1, 2, 0)))\n",
        "    plt.show()\n",
        "\n",
        "\n",
        "# get some random training images\n",
        "dataiter = iter(trainloader)\n",
        "images, labels = dataiter.next()\n",
        "\n",
        "# show images\n",
        "imshow(torchvision.utils.make_grid(images))\n",
        "# print labels\n",
        "print(' '.join('%5s' % classes[labels[j]] for j in range(batch_size)))"
      ],
      "execution_count": 5,
      "outputs": [
        {
          "output_type": "display_data",
          "data": {
            "image/png": "[encoded data removed]",
            "text/plain": [
              "<Figure size 432x288 with 1 Axes>"
            ]
          },
          "metadata": {
            "needs_background": "light"
          }
        },
        {
          "output_type": "stream",
          "name": "stdout",
          "text": [
            " deer  bird  deer   car\n"
          ]
        }
      ]
    },
    {
      "cell_type": "code",
      "metadata": {
        "id": "cym0yVXtx-9s"
      },
      "source": [
        "times = []\n",
        "accuracy_scores = []\n",
        "networks = [\"CNN2\", \"CNN3\", \"CNN4\", \"CNN4Large\", \"CNN3Large\"]"
      ],
      "execution_count": 6,
      "outputs": []
    },
    {
      "cell_type": "code",
      "metadata": {
        "id": "1Giwoes4T-eQ"
      },
      "source": [
        "import torch.nn as nn\n",
        "import torch.nn.functional as F\n",
        "import time\n",
        "\n",
        "\n",
        "class Net(nn.Module):\n",
        "    def __init__(self):\n",
        "        super().__init__()\n",
        "        self.conv1 = nn.Conv2d(3, 6, 5)\n",
        "        self.pool = nn.MaxPool2d(2, 2)\n",
        "        self.conv2 = nn.Conv2d(6, 16, 5)\n",
        "        self.fc1 = nn.Linear(16 * 5 * 5, 120)\n",
        "        self.fc2 = nn.Linear(120, 84)\n",
        "        self.fc3 = nn.Linear(84, 10)\n",
        "\n",
        "    def forward(self, x):\n",
        "        x = self.pool(F.relu(self.conv1(x)))\n",
        "        x = self.pool(F.relu(self.conv2(x)))\n",
        "        x = torch.flatten(x, 1) # flatten all dimensions except batch\n",
        "        x = F.relu(self.fc1(x))\n",
        "        x = F.relu(self.fc2(x))\n",
        "        x = self.fc3(x)\n",
        "        return x\n",
        "\n",
        "net = Net()"
      ],
      "execution_count": 6,
      "outputs": []
    },
    {
      "cell_type": "code",
      "metadata": {
        "id": "ybsZsVxjT_GZ"
      },
      "source": [
        "import torch.optim as optim\n",
        "\n",
        "criterion = nn.CrossEntropyLoss()\n",
        "optimizer = optim.SGD(net.parameters(), lr=0.001, momentum=0.9)"
      ],
      "execution_count": 7,
      "outputs": []
    },
    {
      "cell_type": "code",
      "metadata": {
        "id": "1d8UQmbcUBhG"
      },
      "source": [
        "def train(epochs):\n",
        "  for epoch in range(epochs):  # loop over the dataset multiple times\n",
        "\n",
        "      running_loss = 0.0\n",
        "      for i, data in enumerate(trainloader, 0):\n",
        "          # get the inputs; data is a list of [inputs, labels]\n",
        "          inputs, labels = data\n",
        "\n",
        "          # zero the parameter gradients\n",
        "          optimizer.zero_grad()\n",
        "\n",
        "          # forward + backward + optimize\n",
        "          outputs = net(inputs)\n",
        "          loss = criterion(outputs, labels)\n",
        "          loss.backward()\n",
        "          optimizer.step()\n",
        "\n",
        "          # print statistics\n",
        "          running_loss += loss.item()\n",
        "          if i % 2000 == 1999:    # print every 2000 mini-batches\n",
        "              print('[%d, %5d] loss: %.3f' %\n",
        "                    (epoch + 1, i + 1, running_loss / 2000))\n",
        "              running_loss = 0.0\n",
        "\n",
        "  print('Finished Training')\n",
        "\n",
        "start = time.time()\n",
        "train(2)\n",
        "end = time.time()\n",
        "times.append(end-start)"
      ],
      "execution_count": 8,
      "outputs": []
    },
    {
      "cell_type": "code",
      "metadata": {
        "colab": {
          "base_uri": "https://localhost:8080/",
          "height": 156
        },
        "id": "7WjQbZbcUIxv",
        "outputId": "d6dfc96c-3c48-42a5-aa20-2304f1106af5"
      },
      "source": [
        "dataiter = iter(testloader)\n",
        "images, labels = dataiter.next()\n",
        "\n",
        "# print images\n",
        "imshow(torchvision.utils.make_grid(images))\n",
        "print('GroundTruth: ', ' '.join('%5s' % classes[labels[j]] for j in range(4)))"
      ],
      "execution_count": 10,
      "outputs": [
        {
          "output_type": "display_data",
          "data": {
            "image/png": "[encoded data removed]",
            "text/plain": [
              "<Figure size 432x288 with 1 Axes>"
            ]
          },
          "metadata": {
            "needs_background": "light"
          }
        },
        {
          "output_type": "stream",
          "name": "stdout",
          "text": [
            "GroundTruth:    cat  ship  ship plane\n"
          ]
        }
      ]
    },
    {
      "cell_type": "code",
      "metadata": {
        "id": "8RkYtRps0yX2"
      },
      "source": [
        "outputs = net(images)"
      ],
      "execution_count": 11,
      "outputs": []
    },
    {
      "cell_type": "code",
      "metadata": {
        "colab": {
          "base_uri": "https://localhost:8080/"
        },
        "id": "WQjdEqIt0zCL",
        "outputId": "4e0dce44-02f8-4aad-f9e4-9704dbc5e82b"
      },
      "source": [
        "_, predicted = torch.max(outputs, 1)\n",
        "\n",
        "print('Predicted: ', ' '.join('%5s' % classes[predicted[j]]\n",
        "                              for j in range(4)))"
      ],
      "execution_count": 12,
      "outputs": [
        {
          "output_type": "stream",
          "name": "stdout",
          "text": [
            "Predicted:   frog  ship   car plane\n"
          ]
        }
      ]
    },
    {
      "cell_type": "code",
      "metadata": {
        "id": "gaYZTcrrUO8c"
      },
      "source": [
        "def test():\n",
        "  correct = 0\n",
        "  total = 0\n",
        "  # since we're not training, we don't need to calculate the gradients for our outputs\n",
        "  with torch.no_grad():\n",
        "      for data in testloader:\n",
        "          images, labels = data\n",
        "          # calculate outputs by running images through the network \n",
        "          outputs = net(images)\n",
        "          # the class with the highest energy is what we choose as prediction\n",
        "          _, predicted = torch.max(outputs.data, 1)\n",
        "          total += labels.size(0)\n",
        "          correct += (predicted == labels).sum().item()\n",
        "\n",
        "  accuracy_scores.append(100 * correct/total)\n",
        "  print('Accuracy of the network on the 10000 test images: %d %%' % (\n",
        "      100 * correct / total))\n",
        "  \n",
        "test()"
      ],
      "execution_count": 17,
      "outputs": []
    },
    {
      "cell_type": "code",
      "metadata": {
        "id": "cS1HadrEUSPB"
      },
      "source": [
        "def accuracy_by_class():\n",
        "  # prepare to count predictions for each class\n",
        "  correct_pred = {classname: 0 for classname in classes}\n",
        "  total_pred = {classname: 0 for classname in classes}\n",
        "\n",
        "  # again no gradients needed\n",
        "  with torch.no_grad():\n",
        "      for data in testloader:\n",
        "          images, labels = data    \n",
        "          outputs = net(images)    \n",
        "          _, predictions = torch.max(outputs, 1)\n",
        "          # collect the correct predictions for each class\n",
        "          for label, prediction in zip(labels, predictions):\n",
        "              if label == prediction:\n",
        "                  correct_pred[classes[label]] += 1\n",
        "              total_pred[classes[label]] += 1\n",
        "\n",
        "    \n",
        "  # print accuracy for each class\n",
        "  for classname, correct_count in correct_pred.items():\n",
        "      accuracy = 100 * float(correct_count) / total_pred[classname]\n",
        "      print(\"Accuracy for class {:5s} is: {:.1f} %\".format(classname, \n",
        "                                                    accuracy))\n",
        "      \n",
        "#All code above referenced from pytorch tutorial at https://pytorch.org/tutorials/beginner/blitz/cifar10_tutorial.html#sphx-glr-beginner-blitz-cifar10-tutorial-py\n",
        "\n",
        "accuracy_by_class()"
      ],
      "execution_count": 10,
      "outputs": []
    },
    {
      "cell_type": "code",
      "metadata": {
        "id": "c1BxRTXnaHWH"
      },
      "source": [
        "#The code below and all networks below are my contribution to this tutorial\n",
        "#Four different networks are tested to evaluate the effect of the amount of layers and features/neurons in the network\n",
        "class ThreeLayerNet(nn.Module):\n",
        "    def __init__(self):\n",
        "        super().__init__()\n",
        "        self.conv1 = nn.Conv2d(3, 16, 5)\n",
        "        self.pool = nn.MaxPool2d(2, 2)\n",
        "        self.conv2 = nn.Conv2d(16, 32, 5)\n",
        "        self.conv3 = nn.Conv2d(32, 64, 3)\n",
        "        self.fc1 = nn.Linear(64 * 3 * 3, 120)\n",
        "        self.fc2 = nn.Linear(120, 84)\n",
        "        self.fc3 = nn.Linear(84, 10)\n",
        "\n",
        "    def forward(self, x):\n",
        "        x = self.pool(F.relu(self.conv1(x)))\n",
        "        x = self.pool(F.relu(self.conv2(x)))\n",
        "        x = (F.relu(self.conv3(x)))\n",
        "        x = torch.flatten(x, 1) # flatten all dimensions except batch\n",
        "        x = F.relu(self.fc1(x))\n",
        "        x = F.relu(self.fc2(x))\n",
        "        x = self.fc3(x)\n",
        "        return x\n",
        "\n",
        "\n",
        "net = ThreeLayerNet()"
      ],
      "execution_count": 15,
      "outputs": []
    },
    {
      "cell_type": "code",
      "metadata": {
        "id": "tcSXYG-z0i42"
      },
      "source": [
        "criterion = nn.CrossEntropyLoss()\n",
        "optimizer = optim.SGD(net.parameters(), lr=0.001, momentum=0.9)"
      ],
      "execution_count": 16,
      "outputs": []
    },
    {
      "cell_type": "code",
      "metadata": {
        "colab": {
          "base_uri": "https://localhost:8080/"
        },
        "id": "xOTe2JrsaUc4",
        "outputId": "03910d3f-ce15-40e5-bf88-a4e61b1d5444"
      },
      "source": [
        "start = time.time()\n",
        "train(2)\n",
        "end = time.time()\n",
        "times.append(end-start)"
      ],
      "execution_count": 17,
      "outputs": [
        {
          "output_type": "stream",
          "name": "stdout",
          "text": [
            "[1,  2000] loss: 2.290\n",
            "[1,  4000] loss: 2.021\n",
            "[1,  6000] loss: 1.805\n",
            "[1,  8000] loss: 1.669\n",
            "[1, 10000] loss: 1.548\n",
            "[1, 12000] loss: 1.465\n",
            "[2,  2000] loss: 1.383\n",
            "[2,  4000] loss: 1.341\n",
            "[2,  6000] loss: 1.324\n",
            "[2,  8000] loss: 1.292\n",
            "[2, 10000] loss: 1.241\n",
            "[2, 12000] loss: 1.236\n",
            "Finished Training\n"
          ]
        }
      ]
    },
    {
      "cell_type": "code",
      "metadata": {
        "colab": {
          "base_uri": "https://localhost:8080/"
        },
        "id": "Q0aw-y_faWTD",
        "outputId": "78d78a87-f87a-4b04-b488-529dbfe2a6f9"
      },
      "source": [
        "test()"
      ],
      "execution_count": 18,
      "outputs": [
        {
          "output_type": "stream",
          "name": "stdout",
          "text": [
            "Accuracy of the network on the 10000 test images: 57 %\n"
          ]
        }
      ]
    },
    {
      "cell_type": "code",
      "metadata": {
        "colab": {
          "base_uri": "https://localhost:8080/"
        },
        "id": "2fVkfHmpaXV1",
        "outputId": "7ec8d235-a487-4845-ab74-7eba2acb51a6"
      },
      "source": [
        "accuracy_by_class()"
      ],
      "execution_count": 19,
      "outputs": [
        {
          "output_type": "stream",
          "name": "stdout",
          "text": [
            "Accuracy for class plane is: 65.2 %\n",
            "Accuracy for class car   is: 77.2 %\n",
            "Accuracy for class bird  is: 34.4 %\n",
            "Accuracy for class cat   is: 23.6 %\n",
            "Accuracy for class deer  is: 50.7 %\n",
            "Accuracy for class dog   is: 59.7 %\n",
            "Accuracy for class frog  is: 72.7 %\n",
            "Accuracy for class horse is: 54.9 %\n",
            "Accuracy for class ship  is: 77.8 %\n",
            "Accuracy for class truck is: 63.6 %\n"
          ]
        }
      ]
    },
    {
      "cell_type": "code",
      "metadata": {
        "id": "crkSXc5G7M-H"
      },
      "source": [
        "class FourLayerNet(nn.Module):\n",
        "    def __init__(self):\n",
        "        super().__init__()\n",
        "        self.conv1 = nn.Conv2d(3, 16, 5, padding = 1)\n",
        "        self.pool = nn.MaxPool2d(2, 2)\n",
        "        self.conv2 = nn.Conv2d(16, 32, 5)\n",
        "        self.conv3 = nn.Conv2d(32, 64, 3)\n",
        "        self.conv4 = nn.Conv2d(64, 128, 3)\n",
        "        self.fc1 = nn.Linear(128 * 3 * 3, 120)\n",
        "        self.fc2 = nn.Linear(120, 84)\n",
        "        self.fc3 = nn.Linear(84, 10)\n",
        "\n",
        "    def forward(self, x):\n",
        "        x = (F.relu(self.conv1(x)))\n",
        "        x = self.pool(F.relu(self.conv2(x)))\n",
        "        x = self.pool(F.relu(self.conv3(x)))\n",
        "        x = (F.relu(self.conv4(x)))\n",
        "        x = torch.flatten(x, 1) # flatten all dimensions except batch\n",
        "        x = F.relu(self.fc1(x))\n",
        "        x = F.relu(self.fc2(x))\n",
        "        x = self.fc3(x)\n",
        "        return x\n",
        "\n",
        "\n",
        "net = FourLayerNet()"
      ],
      "execution_count": 20,
      "outputs": []
    },
    {
      "cell_type": "code",
      "metadata": {
        "id": "K51f6SBc7vJb"
      },
      "source": [
        "criterion = nn.CrossEntropyLoss()\n",
        "optimizer = optim.SGD(net.parameters(), lr=0.001, momentum=0.9)"
      ],
      "execution_count": 21,
      "outputs": []
    },
    {
      "cell_type": "code",
      "metadata": {
        "colab": {
          "base_uri": "https://localhost:8080/"
        },
        "id": "N_vHcnjM7yRt",
        "outputId": "987838e5-b043-410e-b55c-dd1335657123"
      },
      "source": [
        "start = time.time()\n",
        "train(2)\n",
        "end = time.time()\n",
        "times.append(end-start)"
      ],
      "execution_count": 22,
      "outputs": [
        {
          "output_type": "stream",
          "name": "stdout",
          "text": [
            "[1,  2000] loss: 2.304\n",
            "[1,  4000] loss: 2.294\n",
            "[1,  6000] loss: 2.043\n",
            "[1,  8000] loss: 1.833\n",
            "[1, 10000] loss: 1.672\n",
            "[1, 12000] loss: 1.569\n",
            "[2,  2000] loss: 1.490\n",
            "[2,  4000] loss: 1.430\n",
            "[2,  6000] loss: 1.376\n",
            "[2,  8000] loss: 1.340\n",
            "[2, 10000] loss: 1.289\n",
            "[2, 12000] loss: 1.245\n",
            "Finished Training\n"
          ]
        }
      ]
    },
    {
      "cell_type": "code",
      "metadata": {
        "colab": {
          "base_uri": "https://localhost:8080/"
        },
        "id": "pjRJeMwp8aAp",
        "outputId": "56260564-a644-4c1a-ca26-7c1ed219a42d"
      },
      "source": [
        "test()"
      ],
      "execution_count": 23,
      "outputs": [
        {
          "output_type": "stream",
          "name": "stdout",
          "text": [
            "Accuracy of the network on the 10000 test images: 55 %\n"
          ]
        }
      ]
    },
    {
      "cell_type": "code",
      "metadata": {
        "colab": {
          "base_uri": "https://localhost:8080/"
        },
        "id": "Ze4ST15z8aep",
        "outputId": "e47ca421-75b7-4a9c-ae1c-b8ce2ed751f7"
      },
      "source": [
        "accuracy_by_class()"
      ],
      "execution_count": 24,
      "outputs": [
        {
          "output_type": "stream",
          "name": "stdout",
          "text": [
            "Accuracy for class plane is: 34.0 %\n",
            "Accuracy for class car   is: 73.9 %\n",
            "Accuracy for class bird  is: 28.4 %\n",
            "Accuracy for class cat   is: 32.0 %\n",
            "Accuracy for class deer  is: 60.1 %\n",
            "Accuracy for class dog   is: 45.4 %\n",
            "Accuracy for class frog  is: 84.8 %\n",
            "Accuracy for class horse is: 60.5 %\n",
            "Accuracy for class ship  is: 70.6 %\n",
            "Accuracy for class truck is: 64.0 %\n"
          ]
        }
      ]
    },
    {
      "cell_type": "code",
      "metadata": {
        "id": "31c2IN3g9NbN"
      },
      "source": [
        "class FourLayerLargeNet(nn.Module):\n",
        "    def __init__(self):\n",
        "        super().__init__()\n",
        "        self.conv1 = nn.Conv2d(3, 32, 5, padding = 1)\n",
        "        self.pool = nn.MaxPool2d(2, 2)\n",
        "        self.conv2 = nn.Conv2d(32, 64, 5)\n",
        "        self.conv3 = nn.Conv2d(64, 128, 3)\n",
        "        self.conv4 = nn.Conv2d(128, 256, 3)\n",
        "        self.fc1 = nn.Linear(256 * 3 * 3, 1024)\n",
        "        self.fc2 = nn.Linear(1024, 512)\n",
        "        self.fc3 = nn.Linear(512, 10)\n",
        "\n",
        "    def forward(self, x):\n",
        "        x = (F.relu(self.conv1(x)))\n",
        "        x = self.pool(F.relu(self.conv2(x)))\n",
        "        x = self.pool(F.relu(self.conv3(x)))\n",
        "        x = (F.relu(self.conv4(x)))\n",
        "        x = torch.flatten(x, 1) # flatten all dimensions except batch\n",
        "        x = F.relu(self.fc1(x))\n",
        "        x = F.relu(self.fc2(x))\n",
        "        x = self.fc3(x)\n",
        "        return x\n",
        "\n",
        "\n",
        "\n",
        "net = FourLayerLargeNet()"
      ],
      "execution_count": 25,
      "outputs": []
    },
    {
      "cell_type": "code",
      "metadata": {
        "id": "O529lsL0_tML"
      },
      "source": [
        "criterion = nn.CrossEntropyLoss()\n",
        "optimizer = optim.SGD(net.parameters(), lr=0.001, momentum=0.9)"
      ],
      "execution_count": 26,
      "outputs": []
    },
    {
      "cell_type": "code",
      "metadata": {
        "colab": {
          "base_uri": "https://localhost:8080/"
        },
        "id": "n6BB4KuS_vt7",
        "outputId": "8ad40eda-4b6e-44ef-d440-e74e5fa8f6a1"
      },
      "source": [
        "start = time.time()\n",
        "train(2)\n",
        "end = time.time()\n",
        "times.append(end-start)"
      ],
      "execution_count": 27,
      "outputs": [
        {
          "output_type": "stream",
          "name": "stdout",
          "text": [
            "[1,  2000] loss: 2.299\n",
            "[1,  4000] loss: 2.079\n",
            "[1,  6000] loss: 1.862\n",
            "[1,  8000] loss: 1.662\n",
            "[1, 10000] loss: 1.571\n",
            "[1, 12000] loss: 1.514\n",
            "[2,  2000] loss: 1.410\n",
            "[2,  4000] loss: 1.369\n",
            "[2,  6000] loss: 1.321\n",
            "[2,  8000] loss: 1.267\n",
            "[2, 10000] loss: 1.247\n",
            "[2, 12000] loss: 1.175\n",
            "Finished Training\n"
          ]
        }
      ]
    },
    {
      "cell_type": "code",
      "metadata": {
        "colab": {
          "base_uri": "https://localhost:8080/"
        },
        "id": "cl91fNWu_xLz",
        "outputId": "b3d3578a-e1e8-4b02-b343-cb101573c240"
      },
      "source": [
        "test()"
      ],
      "execution_count": 28,
      "outputs": [
        {
          "output_type": "stream",
          "name": "stdout",
          "text": [
            "Accuracy of the network on the 10000 test images: 58 %\n"
          ]
        }
      ]
    },
    {
      "cell_type": "code",
      "metadata": {
        "colab": {
          "base_uri": "https://localhost:8080/"
        },
        "id": "9eVd72VY_0jE",
        "outputId": "b0e5f355-70c7-4416-8409-90d48eca7820"
      },
      "source": [
        "accuracy_by_class()"
      ],
      "execution_count": 29,
      "outputs": [
        {
          "output_type": "stream",
          "name": "stdout",
          "text": [
            "Accuracy for class plane is: 68.6 %\n",
            "Accuracy for class car   is: 72.7 %\n",
            "Accuracy for class bird  is: 53.7 %\n",
            "Accuracy for class cat   is: 33.4 %\n",
            "Accuracy for class deer  is: 38.1 %\n",
            "Accuracy for class dog   is: 59.9 %\n",
            "Accuracy for class frog  is: 48.5 %\n",
            "Accuracy for class horse is: 76.8 %\n",
            "Accuracy for class ship  is: 63.8 %\n",
            "Accuracy for class truck is: 73.6 %\n"
          ]
        }
      ]
    },
    {
      "cell_type": "code",
      "metadata": {
        "id": "DzLgGGITVDOf"
      },
      "source": [
        "class ThreeLayerLargeNet(nn.Module):\n",
        "    def __init__(self):\n",
        "        super().__init__()\n",
        "        self.conv1 = nn.Conv2d(3, 32, 5)\n",
        "        self.pool = nn.MaxPool2d(2, 2)\n",
        "        self.conv2 = nn.Conv2d(32, 128, 5)\n",
        "        self.conv3 = nn.Conv2d(128, 256, 3)\n",
        "        self.fc1 = nn.Linear(256 * 3 * 3, 1024)\n",
        "        self.fc2 = nn.Linear(1024, 512)\n",
        "        self.fc3 = nn.Linear(512, 10)\n",
        "\n",
        "    def forward(self, x):\n",
        "        x = self.pool(F.relu(self.conv1(x)))\n",
        "        x = self.pool(F.relu(self.conv2(x)))\n",
        "        x = (F.relu(self.conv3(x)))\n",
        "        x = torch.flatten(x, 1) # flatten all dimensions except batch\n",
        "        x = F.relu(self.fc1(x))\n",
        "        x = F.relu(self.fc2(x))\n",
        "        x = self.fc3(x)\n",
        "        return x\n",
        "\n",
        "\n",
        "net = ThreeLayerLargeNet()"
      ],
      "execution_count": 11,
      "outputs": []
    },
    {
      "cell_type": "code",
      "metadata": {
        "id": "aYtKf03GVnAU"
      },
      "source": [
        "criterion = nn.CrossEntropyLoss()\n",
        "optimizer = optim.SGD(net.parameters(), lr=0.001, momentum=0.9)"
      ],
      "execution_count": 34,
      "outputs": []
    },
    {
      "cell_type": "code",
      "metadata": {
        "colab": {
          "base_uri": "https://localhost:8080/"
        },
        "id": "Bu8ZJakBVnbR",
        "outputId": "c6988b76-2c4c-45dd-8c3f-d9e15adb24f6"
      },
      "source": [
        "start = time.time()\n",
        "train(2)\n",
        "end = time.time()\n",
        "times.append(end-start)"
      ],
      "execution_count": 35,
      "outputs": [
        {
          "output_type": "stream",
          "name": "stdout",
          "text": [
            "[1,  2000] loss: 2.200\n",
            "[1,  4000] loss: 1.832\n",
            "[1,  6000] loss: 1.658\n",
            "[1,  8000] loss: 1.525\n",
            "[1, 10000] loss: 1.420\n",
            "[1, 12000] loss: 1.361\n",
            "[2,  2000] loss: 1.278\n",
            "[2,  4000] loss: 1.212\n",
            "[2,  6000] loss: 1.151\n",
            "[2,  8000] loss: 1.134\n",
            "[2, 10000] loss: 1.082\n",
            "[2, 12000] loss: 1.053\n",
            "Finished Training\n"
          ]
        }
      ]
    },
    {
      "cell_type": "code",
      "metadata": {
        "colab": {
          "base_uri": "https://localhost:8080/"
        },
        "id": "TgpvAHbEagSW",
        "outputId": "b71c6c66-1759-4d23-da14-e324e3674e76"
      },
      "source": [
        "test()"
      ],
      "execution_count": 36,
      "outputs": [
        {
          "output_type": "stream",
          "name": "stdout",
          "text": [
            "Accuracy of the network on the 10000 test images: 63 %\n"
          ]
        }
      ]
    },
    {
      "cell_type": "code",
      "metadata": {
        "colab": {
          "base_uri": "https://localhost:8080/"
        },
        "id": "zH37KPomiHoO",
        "outputId": "2a4a6fe5-bd36-428d-9a85-980773784c6a"
      },
      "source": [
        "accuracy_by_class()"
      ],
      "execution_count": 37,
      "outputs": [
        {
          "output_type": "stream",
          "name": "stdout",
          "text": [
            "Accuracy for class plane is: 61.6 %\n",
            "Accuracy for class car   is: 72.1 %\n",
            "Accuracy for class bird  is: 49.9 %\n",
            "Accuracy for class cat   is: 37.2 %\n",
            "Accuracy for class deer  is: 57.7 %\n",
            "Accuracy for class dog   is: 73.3 %\n",
            "Accuracy for class frog  is: 69.6 %\n",
            "Accuracy for class horse is: 65.7 %\n",
            "Accuracy for class ship  is: 85.9 %\n",
            "Accuracy for class truck is: 61.6 %\n"
          ]
        }
      ]
    },
    {
      "cell_type": "code",
      "metadata": {
        "id": "wZYN1NIT0Dds"
      },
      "source": [
        "PATH = './cifar_net.pth'\n",
        "torch.save(net.state_dict(), PATH)"
      ],
      "execution_count": 21,
      "outputs": []
    },
    {
      "cell_type": "code",
      "metadata": {
        "colab": {
          "base_uri": "https://localhost:8080/"
        },
        "id": "zG5rRqJW0EcP",
        "outputId": "200a8d16-b2ec-486c-a958-4a2f55ce2bae"
      },
      "source": [
        "net = ThreeLayerLargeNet()\n",
        "net.load_state_dict(torch.load(PATH))"
      ],
      "execution_count": 13,
      "outputs": [
        {
          "output_type": "execute_result",
          "data": {
            "text/plain": [
              "<All keys matched successfully>"
            ]
          },
          "metadata": {},
          "execution_count": 13
        }
      ]
    },
    {
      "cell_type": "code",
      "metadata": {
        "colab": {
          "base_uri": "https://localhost:8080/",
          "height": 299
        },
        "id": "CQi_0d6gCDe6",
        "outputId": "daef328a-943f-4322-d2cc-ec8494255d5f"
      },
      "source": [
        "#plotting code referenced from https://benalexkeen.com/bar-charts-in-matplotlib/\n",
        "import matplotlib.pyplot as plt\n",
        "%matplotlib inline\n",
        "\n",
        "plt.style.use('ggplot')\n",
        "\n",
        "x_pos = [i for i, _ in enumerate(networks)]\n",
        "\n",
        "plt.bar(x_pos, accuracy_scores, color='blue')\n",
        "plt.xlabel(\"Network Architecture\")\n",
        "plt.ylabel(\"Accuracy (%)\")\n",
        "plt.title(\"Cifar-10 Test Accuracy For 2 Epochs\")\n",
        "\n",
        "plt.xticks(x_pos, networks)\n",
        "\n",
        "plt.show()"
      ],
      "execution_count": 45,
      "outputs": [
        {
          "output_type": "display_data",
          "data": {
            "image/png": "[encoded data removed]",
            "text/plain": [
              "<Figure size 432x288 with 1 Axes>"
            ]
          },
          "metadata": {}
        }
      ]
    },
    {
      "cell_type": "code",
      "metadata": {
        "colab": {
          "base_uri": "https://localhost:8080/"
        },
        "id": "adA3CIv8Dwr9",
        "outputId": "bab04ce9-e635-4c6c-b2a1-05e80e890c35"
      },
      "source": [
        "times_mins = []\n",
        "for x in range(len(times)):\n",
        "  temp = times[x]/60\n",
        "  times_mins.append(temp)\n",
        "times_mins"
      ],
      "execution_count": 49,
      "outputs": [
        {
          "output_type": "execute_result",
          "data": {
            "text/plain": [
              "[2.126092851161957,\n",
              " 3.282284982999166,\n",
              " 6.373697070280711,\n",
              " 23.43033141295115,\n",
              " 15.452021066347758]"
            ]
          },
          "metadata": {},
          "execution_count": 49
        }
      ]
    },
    {
      "cell_type": "code",
      "metadata": {
        "colab": {
          "base_uri": "https://localhost:8080/",
          "height": 299
        },
        "id": "gu6Na4rHC_Xt",
        "outputId": "8ae55a77-0684-40b3-9ecf-5102d3ee45ce"
      },
      "source": [
        "#plotting code referenced from https://benalexkeen.com/bar-charts-in-matplotlib/\n",
        "plt.style.use('ggplot')\n",
        "\n",
        "x_pos = [i for i, _ in enumerate(networks)]\n",
        "\n",
        "plt.bar(x_pos, times_mins, color='blue')\n",
        "plt.xlabel(\"Network Architecture\")\n",
        "plt.ylabel(\"Time (Minutes)\")\n",
        "plt.title(\"Cifar-10 Training Time For 2 Epochs\")\n",
        "\n",
        "plt.xticks(x_pos, networks)\n",
        "\n",
        "plt.show()"
      ],
      "execution_count": 50,
      "outputs": [
        {
          "output_type": "display_data",
          "data": {
            "image/png": "[encoded data removed]",
            "text/plain": [
              "<Figure size 432x288 with 1 Axes>"
            ]
          },
          "metadata": {}
        }
      ]
    },
    {
      "cell_type": "code",
      "metadata": {
        "id": "K8qdC8ORMSLi"
      },
      "source": [
        "criterion = nn.CrossEntropyLoss()\n",
        "optimizer = optim.SGD(net.parameters(), lr=0.001, momentum=0.9)"
      ],
      "execution_count": 14,
      "outputs": []
    },
    {
      "cell_type": "code",
      "metadata": {
        "colab": {
          "base_uri": "https://localhost:8080/"
        },
        "id": "9wtTlknBMTwr",
        "outputId": "906939a4-2170-4904-8194-fc428549a325"
      },
      "source": [
        "#train 8 more epochs on the saved model from before for 10 total epochs\n",
        "train(8)"
      ],
      "execution_count": 15,
      "outputs": [
        {
          "output_type": "stream",
          "name": "stderr",
          "text": [
            "/usr/local/lib/python3.7/dist-packages/torch/nn/functional.py:718: UserWarning: Named tensors and all their associated APIs are an experimental feature and subject to change. Please do not use them for anything important until they are released as stable. (Triggered internally at  /pytorch/c10/core/TensorImpl.h:1156.)\n",
            "  return torch.max_pool2d(input, kernel_size, stride, padding, dilation, ceil_mode)\n"
          ]
        },
        {
          "output_type": "stream",
          "name": "stdout",
          "text": [
            "[1,  2000] loss: 0.941\n",
            "[1,  4000] loss: 0.938\n",
            "[1,  6000] loss: 0.888\n",
            "[1,  8000] loss: 0.914\n",
            "[1, 10000] loss: 0.894\n",
            "[1, 12000] loss: 0.843\n",
            "[2,  2000] loss: 0.748\n",
            "[2,  4000] loss: 0.728\n",
            "[2,  6000] loss: 0.744\n",
            "[2,  8000] loss: 0.741\n",
            "[2, 10000] loss: 0.742\n",
            "[2, 12000] loss: 0.715\n",
            "[3,  2000] loss: 0.577\n",
            "[3,  4000] loss: 0.585\n",
            "[3,  6000] loss: 0.584\n",
            "[3,  8000] loss: 0.605\n",
            "[3, 10000] loss: 0.634\n",
            "[3, 12000] loss: 0.616\n",
            "[4,  2000] loss: 0.453\n",
            "[4,  4000] loss: 0.447\n",
            "[4,  6000] loss: 0.479\n",
            "[4,  8000] loss: 0.484\n",
            "[4, 10000] loss: 0.518\n",
            "[4, 12000] loss: 0.497\n",
            "[5,  2000] loss: 0.316\n",
            "[5,  4000] loss: 0.362\n",
            "[5,  6000] loss: 0.366\n",
            "[5,  8000] loss: 0.395\n",
            "[5, 10000] loss: 0.403\n",
            "[5, 12000] loss: 0.410\n",
            "[6,  2000] loss: 0.232\n",
            "[6,  4000] loss: 0.264\n",
            "[6,  6000] loss: 0.289\n",
            "[6,  8000] loss: 0.286\n",
            "[6, 10000] loss: 0.323\n",
            "[6, 12000] loss: 0.321\n",
            "[7,  2000] loss: 0.193\n",
            "[7,  4000] loss: 0.206\n",
            "[7,  6000] loss: 0.238\n",
            "[7,  8000] loss: 0.239\n",
            "[7, 10000] loss: 0.245\n",
            "[7, 12000] loss: 0.253\n",
            "[8,  2000] loss: 0.123\n",
            "[8,  4000] loss: 0.158\n",
            "[8,  6000] loss: 0.182\n",
            "[8,  8000] loss: 0.175\n",
            "[8, 10000] loss: 0.199\n",
            "[8, 12000] loss: 0.208\n",
            "Finished Training\n"
          ]
        }
      ]
    },
    {
      "cell_type": "code",
      "metadata": {
        "colab": {
          "base_uri": "https://localhost:8080/"
        },
        "id": "U2d9S2uDZ1wV",
        "outputId": "2576fc85-d636-4db8-868f-fe12cacc6850"
      },
      "source": [
        "test()"
      ],
      "execution_count": 18,
      "outputs": [
        {
          "output_type": "stream",
          "name": "stdout",
          "text": [
            "Accuracy of the network on the 10000 test images: 73 %\n"
          ]
        }
      ]
    },
    {
      "cell_type": "code",
      "metadata": {
        "colab": {
          "base_uri": "https://localhost:8080/"
        },
        "id": "UFJwedVmZ3fD",
        "outputId": "89a95535-ce86-440e-aa63-c79dd26809e9"
      },
      "source": [
        "accuracy_by_class()"
      ],
      "execution_count": 19,
      "outputs": [
        {
          "output_type": "stream",
          "name": "stdout",
          "text": [
            "Accuracy for class plane is: 73.7 %\n",
            "Accuracy for class car   is: 83.7 %\n",
            "Accuracy for class bird  is: 60.9 %\n",
            "Accuracy for class cat   is: 53.7 %\n",
            "Accuracy for class deer  is: 75.7 %\n",
            "Accuracy for class dog   is: 65.2 %\n",
            "Accuracy for class frog  is: 80.0 %\n",
            "Accuracy for class horse is: 74.7 %\n",
            "Accuracy for class ship  is: 85.2 %\n",
            "Accuracy for class truck is: 85.3 %\n"
          ]
        }
      ]
    }
  ]
}